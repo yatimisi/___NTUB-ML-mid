{
 "cells": [
  {
   "cell_type": "code",
   "execution_count": 1,
   "metadata": {},
   "outputs": [],
   "source": [
    "import os\n",
    "import pandas as pd\n",
    "import numpy as np\n",
    "import seaborn as sns\n",
    "from matplotlib import pyplot as plt\n",
    "from scipy.stats import pearsonr"
   ]
  },
  {
   "cell_type": "markdown",
   "metadata": {},
   "source": [
    "# Data Structure"
   ]
  },
  {
   "cell_type": "code",
   "execution_count": 2,
   "metadata": {},
   "outputs": [
    {
     "name": "stdout",
     "output_type": "stream",
     "text": [
      "data/countries-iso-codes/wikipedia-iso-country-codes.csv\n",
      "data/big-five-personality-test/test.csv\n",
      "data/big-five-personality-test/submission.csv\n",
      "data/big-five-personality-test/train.csv\n",
      "data/data-final/6.csv\n",
      "data/data-final/5.csv\n",
      "data/data-final/4.csv\n",
      "data/data-final/1.csv\n",
      "data/data-final/3.csv\n",
      "data/data-final/2.csv\n"
     ]
    }
   ],
   "source": [
    "data_dir = 'data'\n",
    "\n",
    "if os.path.isdir(data_dir):\n",
    "    for dirname, _, filenames in os.walk(data_dir):\n",
    "        for filename in filenames:\n",
    "            print(os.path.join(dirname, filename))\n",
    "else:\n",
    "    print('Please checkout to include-data branch.')"
   ]
  },
  {
   "cell_type": "markdown",
   "metadata": {},
   "source": [
    "# Handle COVID-19 Data"
   ]
  },
  {
   "cell_type": "code",
   "execution_count": 3,
   "metadata": {},
   "outputs": [
    {
     "name": "stdout",
     "output_type": "stream",
     "text": [
      "Total: 30104\n"
     ]
    },
    {
     "data": {
      "text/html": [
       "<div>\n",
       "<style scoped>\n",
       "    .dataframe tbody tr th:only-of-type {\n",
       "        vertical-align: middle;\n",
       "    }\n",
       "\n",
       "    .dataframe tbody tr th {\n",
       "        vertical-align: top;\n",
       "    }\n",
       "\n",
       "    .dataframe thead th {\n",
       "        text-align: right;\n",
       "    }\n",
       "</style>\n",
       "<table border=\"1\" class=\"dataframe\">\n",
       "  <thead>\n",
       "    <tr style=\"text-align: right;\">\n",
       "      <th></th>\n",
       "      <th>Country/Region</th>\n",
       "      <th>Date</th>\n",
       "      <th>ConfirmedCases</th>\n",
       "    </tr>\n",
       "  </thead>\n",
       "  <tbody>\n",
       "    <tr>\n",
       "      <th>0</th>\n",
       "      <td>Afghanistan</td>\n",
       "      <td>2020-01-22</td>\n",
       "      <td>0.0</td>\n",
       "    </tr>\n",
       "    <tr>\n",
       "      <th>1</th>\n",
       "      <td>Afghanistan</td>\n",
       "      <td>2020-01-23</td>\n",
       "      <td>0.0</td>\n",
       "    </tr>\n",
       "    <tr>\n",
       "      <th>2</th>\n",
       "      <td>Afghanistan</td>\n",
       "      <td>2020-01-24</td>\n",
       "      <td>0.0</td>\n",
       "    </tr>\n",
       "    <tr>\n",
       "      <th>3</th>\n",
       "      <td>Afghanistan</td>\n",
       "      <td>2020-01-25</td>\n",
       "      <td>0.0</td>\n",
       "    </tr>\n",
       "    <tr>\n",
       "      <th>4</th>\n",
       "      <td>Afghanistan</td>\n",
       "      <td>2020-01-26</td>\n",
       "      <td>0.0</td>\n",
       "    </tr>\n",
       "  </tbody>\n",
       "</table>\n",
       "</div>"
      ],
      "text/plain": [
       "  Country/Region        Date  ConfirmedCases\n",
       "0    Afghanistan  2020-01-22             0.0\n",
       "1    Afghanistan  2020-01-23             0.0\n",
       "2    Afghanistan  2020-01-24             0.0\n",
       "3    Afghanistan  2020-01-25             0.0\n",
       "4    Afghanistan  2020-01-26             0.0"
      ]
     },
     "execution_count": 3,
     "metadata": {},
     "output_type": "execute_result"
    }
   ],
   "source": [
    "train = pd.read_csv('data/big-five-personality-test/train.csv')\n",
    "test = pd.read_csv('data/big-five-personality-test/test.csv')\n",
    "\n",
    "# Join the training and test sets\n",
    "covid19 = pd.concat([train, test])\n",
    "\n",
    "# Sort by date\n",
    "covid19.sort_values('Date')\n",
    "# Filter to the columns we need\n",
    "covid19 = covid19.loc[:, ['Country/Region', 'Date', 'ConfirmedCases']]\n",
    "\n",
    "print(f'Total: {len(covid19)}')\n",
    "covid19.head()"
   ]
  },
  {
   "cell_type": "markdown",
   "metadata": {},
   "source": [
    "# Filter least 50 confirmed cases, and had at least 14 days"
   ]
  },
  {
   "cell_type": "code",
   "execution_count": 4,
   "metadata": {},
   "outputs": [
    {
     "name": "stdout",
     "output_type": "stream",
     "text": [
      "Total: 2484\n"
     ]
    },
    {
     "data": {
      "text/html": [
       "<div>\n",
       "<style scoped>\n",
       "    .dataframe tbody tr th:only-of-type {\n",
       "        vertical-align: middle;\n",
       "    }\n",
       "\n",
       "    .dataframe tbody tr th {\n",
       "        vertical-align: top;\n",
       "    }\n",
       "\n",
       "    .dataframe thead th {\n",
       "        text-align: right;\n",
       "    }\n",
       "</style>\n",
       "<table border=\"1\" class=\"dataframe\">\n",
       "  <thead>\n",
       "    <tr style=\"text-align: right;\">\n",
       "      <th></th>\n",
       "      <th>Country/Region</th>\n",
       "      <th>Date</th>\n",
       "      <th>ConfirmedCases</th>\n",
       "    </tr>\n",
       "  </thead>\n",
       "  <tbody>\n",
       "    <tr>\n",
       "      <th>678</th>\n",
       "      <td>Australia</td>\n",
       "      <td>2020-03-10</td>\n",
       "      <td>55.0</td>\n",
       "    </tr>\n",
       "    <tr>\n",
       "      <th>679</th>\n",
       "      <td>Australia</td>\n",
       "      <td>2020-03-11</td>\n",
       "      <td>65.0</td>\n",
       "    </tr>\n",
       "    <tr>\n",
       "      <th>680</th>\n",
       "      <td>Australia</td>\n",
       "      <td>2020-03-12</td>\n",
       "      <td>65.0</td>\n",
       "    </tr>\n",
       "    <tr>\n",
       "      <th>681</th>\n",
       "      <td>Australia</td>\n",
       "      <td>2020-03-13</td>\n",
       "      <td>92.0</td>\n",
       "    </tr>\n",
       "    <tr>\n",
       "      <th>682</th>\n",
       "      <td>Australia</td>\n",
       "      <td>2020-03-14</td>\n",
       "      <td>112.0</td>\n",
       "    </tr>\n",
       "  </tbody>\n",
       "</table>\n",
       "</div>"
      ],
      "text/plain": [
       "    Country/Region        Date  ConfirmedCases\n",
       "678      Australia  2020-03-10            55.0\n",
       "679      Australia  2020-03-11            65.0\n",
       "680      Australia  2020-03-12            65.0\n",
       "681      Australia  2020-03-13            92.0\n",
       "682      Australia  2020-03-14           112.0"
      ]
     },
     "execution_count": 4,
     "metadata": {},
     "output_type": "execute_result"
    }
   ],
   "source": [
    "covid19 = covid19[covid19.ConfirmedCases > 50]\n",
    "covid19_numdays = covid19.loc[:, ['Country/Region', 'Date']]\\\n",
    "    .drop_duplicates()\\\n",
    "    .groupby('Country/Region')\\\n",
    "    .count()\\\n",
    "    .rename_axis('country')\\\n",
    "    .reset_index()\n",
    "\n",
    "covid19_mindays = covid19_numdays[covid19_numdays.Date >= 14]\n",
    "covid19 = covid19[covid19['Country/Region'].isin(covid19_mindays.country)]\n",
    "\n",
    "print(f'Total: {len(covid19)}')\n",
    "covid19.head()"
   ]
  },
  {
   "cell_type": "markdown",
   "metadata": {},
   "source": [
    "# Compute growth over 14 days"
   ]
  },
  {
   "cell_type": "code",
   "execution_count": 5,
   "metadata": {},
   "outputs": [
    {
     "name": "stdout",
     "output_type": "stream",
     "text": [
      "Total: 779\n"
     ]
    },
    {
     "data": {
      "text/html": [
       "<div>\n",
       "<style scoped>\n",
       "    .dataframe tbody tr th:only-of-type {\n",
       "        vertical-align: middle;\n",
       "    }\n",
       "\n",
       "    .dataframe tbody tr th {\n",
       "        vertical-align: top;\n",
       "    }\n",
       "\n",
       "    .dataframe thead th {\n",
       "        text-align: right;\n",
       "    }\n",
       "</style>\n",
       "<table border=\"1\" class=\"dataframe\">\n",
       "  <thead>\n",
       "    <tr style=\"text-align: right;\">\n",
       "      <th></th>\n",
       "      <th>Country/Region</th>\n",
       "      <th>Date</th>\n",
       "      <th>ConfirmedCases</th>\n",
       "    </tr>\n",
       "  </thead>\n",
       "  <tbody>\n",
       "    <tr>\n",
       "      <th>0</th>\n",
       "      <td>Australia</td>\n",
       "      <td>2020-03-10</td>\n",
       "      <td>55.0</td>\n",
       "    </tr>\n",
       "    <tr>\n",
       "      <th>1</th>\n",
       "      <td>Australia</td>\n",
       "      <td>2020-03-11</td>\n",
       "      <td>65.0</td>\n",
       "    </tr>\n",
       "    <tr>\n",
       "      <th>2</th>\n",
       "      <td>Australia</td>\n",
       "      <td>2020-03-12</td>\n",
       "      <td>65.0</td>\n",
       "    </tr>\n",
       "    <tr>\n",
       "      <th>3</th>\n",
       "      <td>Australia</td>\n",
       "      <td>2020-03-13</td>\n",
       "      <td>92.0</td>\n",
       "    </tr>\n",
       "    <tr>\n",
       "      <th>4</th>\n",
       "      <td>Australia</td>\n",
       "      <td>2020-03-14</td>\n",
       "      <td>112.0</td>\n",
       "    </tr>\n",
       "  </tbody>\n",
       "</table>\n",
       "</div>"
      ],
      "text/plain": [
       "  Country/Region        Date  ConfirmedCases\n",
       "0      Australia  2020-03-10            55.0\n",
       "1      Australia  2020-03-11            65.0\n",
       "2      Australia  2020-03-12            65.0\n",
       "3      Australia  2020-03-13            92.0\n",
       "4      Australia  2020-03-14           112.0"
      ]
     },
     "execution_count": 5,
     "metadata": {},
     "output_type": "execute_result"
    }
   ],
   "source": [
    "covid19_collapse_province = covid19\\\n",
    "    .groupby(['Country/Region', 'Date'])\\\n",
    "    .sum()\\\n",
    "    .reset_index()\n",
    "\n",
    "print(f'Total: {len(covid19_collapse_province)}')\n",
    "covid19_collapse_province.head()"
   ]
  },
  {
   "cell_type": "code",
   "execution_count": 6,
   "metadata": {},
   "outputs": [
    {
     "name": "stdout",
     "output_type": "stream",
     "text": [
      "Total: 36\n"
     ]
    },
    {
     "data": {
      "text/html": [
       "<div>\n",
       "<style scoped>\n",
       "    .dataframe tbody tr th:only-of-type {\n",
       "        vertical-align: middle;\n",
       "    }\n",
       "\n",
       "    .dataframe tbody tr th {\n",
       "        vertical-align: top;\n",
       "    }\n",
       "\n",
       "    .dataframe thead th {\n",
       "        text-align: right;\n",
       "    }\n",
       "</style>\n",
       "<table border=\"1\" class=\"dataframe\">\n",
       "  <thead>\n",
       "    <tr style=\"text-align: right;\">\n",
       "      <th></th>\n",
       "      <th>Country/Region</th>\n",
       "      <th>Date</th>\n",
       "      <th>ConfirmedCases</th>\n",
       "    </tr>\n",
       "  </thead>\n",
       "  <tbody>\n",
       "    <tr>\n",
       "      <th>13</th>\n",
       "      <td>Australia</td>\n",
       "      <td>2020-03-23</td>\n",
       "      <td>1617.0</td>\n",
       "    </tr>\n",
       "    <tr>\n",
       "      <th>28</th>\n",
       "      <td>Austria</td>\n",
       "      <td>2020-03-19</td>\n",
       "      <td>2013.0</td>\n",
       "    </tr>\n",
       "    <tr>\n",
       "      <th>47</th>\n",
       "      <td>Bahrain</td>\n",
       "      <td>2020-03-17</td>\n",
       "      <td>228.0</td>\n",
       "    </tr>\n",
       "    <tr>\n",
       "      <th>68</th>\n",
       "      <td>Belgium</td>\n",
       "      <td>2020-03-19</td>\n",
       "      <td>1795.0</td>\n",
       "    </tr>\n",
       "    <tr>\n",
       "      <th>87</th>\n",
       "      <td>China</td>\n",
       "      <td>2020-02-04</td>\n",
       "      <td>22353.0</td>\n",
       "    </tr>\n",
       "  </tbody>\n",
       "</table>\n",
       "</div>"
      ],
      "text/plain": [
       "   Country/Region        Date  ConfirmedCases\n",
       "13      Australia  2020-03-23          1617.0\n",
       "28        Austria  2020-03-19          2013.0\n",
       "47        Bahrain  2020-03-17           228.0\n",
       "68        Belgium  2020-03-19          1795.0\n",
       "87          China  2020-02-04         22353.0"
      ]
     },
     "execution_count": 6,
     "metadata": {},
     "output_type": "execute_result"
    }
   ],
   "source": [
    "covid19 = covid19_collapse_province\\\n",
    "    .groupby('Country/Region')\\\n",
    "    .head(14)\\\n",
    "    .groupby('Country/Region')\\\n",
    "    .tail(1)\n",
    "\n",
    "print(f'Total: {len(covid19)}')\n",
    "covid19.head()"
   ]
  },
  {
   "cell_type": "markdown",
   "metadata": {},
   "source": [
    "# Country Abbreviations"
   ]
  },
  {
   "cell_type": "code",
   "execution_count": 7,
   "metadata": {},
   "outputs": [
    {
     "name": "stdout",
     "output_type": "stream",
     "text": [
      "Total: 246\n"
     ]
    },
    {
     "data": {
      "text/html": [
       "<div>\n",
       "<style scoped>\n",
       "    .dataframe tbody tr th:only-of-type {\n",
       "        vertical-align: middle;\n",
       "    }\n",
       "\n",
       "    .dataframe tbody tr th {\n",
       "        vertical-align: top;\n",
       "    }\n",
       "\n",
       "    .dataframe thead th {\n",
       "        text-align: right;\n",
       "    }\n",
       "</style>\n",
       "<table border=\"1\" class=\"dataframe\">\n",
       "  <thead>\n",
       "    <tr style=\"text-align: right;\">\n",
       "      <th></th>\n",
       "      <th>Country/Region</th>\n",
       "      <th>country_abbr</th>\n",
       "    </tr>\n",
       "  </thead>\n",
       "  <tbody>\n",
       "    <tr>\n",
       "      <th>0</th>\n",
       "      <td>Afghanistan</td>\n",
       "      <td>AF</td>\n",
       "    </tr>\n",
       "    <tr>\n",
       "      <th>1</th>\n",
       "      <td>Åland Islands</td>\n",
       "      <td>AX</td>\n",
       "    </tr>\n",
       "    <tr>\n",
       "      <th>2</th>\n",
       "      <td>Albania</td>\n",
       "      <td>AL</td>\n",
       "    </tr>\n",
       "    <tr>\n",
       "      <th>3</th>\n",
       "      <td>Algeria</td>\n",
       "      <td>DZ</td>\n",
       "    </tr>\n",
       "    <tr>\n",
       "      <th>4</th>\n",
       "      <td>American Samoa</td>\n",
       "      <td>AS</td>\n",
       "    </tr>\n",
       "  </tbody>\n",
       "</table>\n",
       "</div>"
      ],
      "text/plain": [
       "   Country/Region country_abbr\n",
       "0     Afghanistan           AF\n",
       "1   Åland Islands           AX\n",
       "2         Albania           AL\n",
       "3         Algeria           DZ\n",
       "4  American Samoa           AS"
      ]
     },
     "execution_count": 7,
     "metadata": {},
     "output_type": "execute_result"
    }
   ],
   "source": [
    "country_isos = pd.read_csv('data/countries-iso-codes/wikipedia-iso-country-codes.csv')\n",
    "country_isos = country_isos.rename(columns={\"English short name lower case\": \"Country/Region\", \n",
    "                                            \"Alpha-2 code\": \"country_abbr\"})\n",
    "country_isos = country_isos.loc[:, ['Country/Region', 'country_abbr']]\n",
    "\n",
    "print(f'Total: {len(country_isos)}')\n",
    "country_isos.head()"
   ]
  },
  {
   "cell_type": "code",
   "execution_count": 8,
   "metadata": {},
   "outputs": [
    {
     "name": "stdout",
     "output_type": "stream",
     "text": [
      "Total: 34\n"
     ]
    },
    {
     "data": {
      "text/html": [
       "<div>\n",
       "<style scoped>\n",
       "    .dataframe tbody tr th:only-of-type {\n",
       "        vertical-align: middle;\n",
       "    }\n",
       "\n",
       "    .dataframe tbody tr th {\n",
       "        vertical-align: top;\n",
       "    }\n",
       "\n",
       "    .dataframe thead th {\n",
       "        text-align: right;\n",
       "    }\n",
       "</style>\n",
       "<table border=\"1\" class=\"dataframe\">\n",
       "  <thead>\n",
       "    <tr style=\"text-align: right;\">\n",
       "      <th></th>\n",
       "      <th>Country/Region</th>\n",
       "      <th>Date</th>\n",
       "      <th>ConfirmedCases</th>\n",
       "      <th>country_abbr</th>\n",
       "    </tr>\n",
       "  </thead>\n",
       "  <tbody>\n",
       "    <tr>\n",
       "      <th>0</th>\n",
       "      <td>Australia</td>\n",
       "      <td>2020-03-23</td>\n",
       "      <td>1617.0</td>\n",
       "      <td>AU</td>\n",
       "    </tr>\n",
       "    <tr>\n",
       "      <th>1</th>\n",
       "      <td>Austria</td>\n",
       "      <td>2020-03-19</td>\n",
       "      <td>2013.0</td>\n",
       "      <td>AT</td>\n",
       "    </tr>\n",
       "    <tr>\n",
       "      <th>2</th>\n",
       "      <td>Bahrain</td>\n",
       "      <td>2020-03-17</td>\n",
       "      <td>228.0</td>\n",
       "      <td>BH</td>\n",
       "    </tr>\n",
       "    <tr>\n",
       "      <th>3</th>\n",
       "      <td>Belgium</td>\n",
       "      <td>2020-03-19</td>\n",
       "      <td>1795.0</td>\n",
       "      <td>BE</td>\n",
       "    </tr>\n",
       "    <tr>\n",
       "      <th>4</th>\n",
       "      <td>China</td>\n",
       "      <td>2020-02-04</td>\n",
       "      <td>22353.0</td>\n",
       "      <td>CN</td>\n",
       "    </tr>\n",
       "  </tbody>\n",
       "</table>\n",
       "</div>"
      ],
      "text/plain": [
       "  Country/Region        Date  ConfirmedCases country_abbr\n",
       "0      Australia  2020-03-23          1617.0           AU\n",
       "1        Austria  2020-03-19          2013.0           AT\n",
       "2        Bahrain  2020-03-17           228.0           BH\n",
       "3        Belgium  2020-03-19          1795.0           BE\n",
       "4          China  2020-02-04         22353.0           CN"
      ]
     },
     "execution_count": 8,
     "metadata": {},
     "output_type": "execute_result"
    }
   ],
   "source": [
    "covid19 = covid19.merge(country_isos, left_on='Country/Region', right_on='Country/Region')\n",
    "covid19 = covid19.dropna()\n",
    "\n",
    "print(f'Total: {len(covid19)}')\n",
    "covid19.head()"
   ]
  },
  {
   "cell_type": "markdown",
   "metadata": {},
   "source": [
    "# Handle Big Five Personality Data"
   ]
  },
  {
   "cell_type": "code",
   "execution_count": 9,
   "metadata": {},
   "outputs": [
    {
     "name": "stdout",
     "output_type": "stream",
     "text": [
      "Reading: data/data-final/6.csv\n",
      "Reading: data/data-final/5.csv\n",
      "Reading: data/data-final/4.csv\n",
      "Reading: data/data-final/1.csv\n",
      "Reading: data/data-final/3.csv\n",
      "Reading: data/data-final/2.csv\n",
      "Total: 1015341\n"
     ]
    }
   ],
   "source": [
    "data_final_dir = 'data/data-final'\n",
    "\n",
    "csv_reading = list()\n",
    "\n",
    "if os.path.isdir(data_final_dir):\n",
    "    for dirname, _, filenames in os.walk(data_final_dir):\n",
    "        for filename in filenames:\n",
    "            print(f'Reading: {os.path.join(dirname, filename)}')\n",
    "            csv_reading.append(pd.read_csv(os.path.join(dirname, filename), sep='\\t'))\n",
    "            \n",
    "else:\n",
    "    print('Please checkout to include-data branch.')\n",
    "\n",
    "big5 = pd.concat(csv_reading)  \n",
    "\n",
    "print(f'Total: {len(big5)}')"
   ]
  },
  {
   "cell_type": "markdown",
   "metadata": {},
   "source": [
    "# Reverse value"
   ]
  },
  {
   "cell_type": "code",
   "execution_count": 10,
   "metadata": {},
   "outputs": [],
   "source": [
    "positively_keyed = ['EXT1', 'EXT3', 'EXT5', 'EXT7', 'EXT9',\n",
    "                    'EST1', 'EST3', 'EST5', 'EST6', 'EST7', 'EST8', 'EST9', 'EST10',\n",
    "                    'AGR2', 'AGR4', 'AGR6', 'AGR8', 'AGR9', 'AGR10',\n",
    "                    'CSN1', 'CSN3', 'CSN5', 'CSN7', 'CSN9', 'CSN10', \n",
    "                    'OPN1', 'OPN3', 'OPN5', 'OPN7', 'OPN8', 'OPN9', 'OPN10']\n",
    "\n",
    "negatively_keyed = ['EXT2', 'EXT4', 'EXT6', 'EXT8', 'EXT10',\n",
    "                    'EST2', 'EST4',\n",
    "                    'AGR1', 'AGR3', 'AGR5', 'AGR7', \n",
    "                    'CSN2', 'CSN4', 'CSN6', 'CSN8', \n",
    "                    'OPN2', 'OPN4', 'OPN6']"
   ]
  },
  {
   "cell_type": "code",
   "execution_count": 11,
   "metadata": {},
   "outputs": [],
   "source": [
    "big5.loc[:, negatively_keyed] = 6 - big5.loc[:, negatively_keyed]"
   ]
  },
  {
   "cell_type": "markdown",
   "metadata": {},
   "source": [
    "# Country-Level Big 5 Aggregates"
   ]
  },
  {
   "cell_type": "code",
   "execution_count": 12,
   "metadata": {},
   "outputs": [
    {
     "name": "stdout",
     "output_type": "stream",
     "text": [
      "Total: 223\n"
     ]
    },
    {
     "data": {
      "text/html": [
       "<div>\n",
       "<style scoped>\n",
       "    .dataframe tbody tr th:only-of-type {\n",
       "        vertical-align: middle;\n",
       "    }\n",
       "\n",
       "    .dataframe tbody tr th {\n",
       "        vertical-align: top;\n",
       "    }\n",
       "\n",
       "    .dataframe thead th {\n",
       "        text-align: right;\n",
       "    }\n",
       "</style>\n",
       "<table border=\"1\" class=\"dataframe\">\n",
       "  <thead>\n",
       "    <tr style=\"text-align: right;\">\n",
       "      <th></th>\n",
       "      <th>country</th>\n",
       "      <th>counts</th>\n",
       "    </tr>\n",
       "  </thead>\n",
       "  <tbody>\n",
       "    <tr>\n",
       "      <th>0</th>\n",
       "      <td>US</td>\n",
       "      <td>546403</td>\n",
       "    </tr>\n",
       "    <tr>\n",
       "      <th>1</th>\n",
       "      <td>GB</td>\n",
       "      <td>66596</td>\n",
       "    </tr>\n",
       "    <tr>\n",
       "      <th>2</th>\n",
       "      <td>CA</td>\n",
       "      <td>61849</td>\n",
       "    </tr>\n",
       "    <tr>\n",
       "      <th>3</th>\n",
       "      <td>AU</td>\n",
       "      <td>50030</td>\n",
       "    </tr>\n",
       "    <tr>\n",
       "      <th>4</th>\n",
       "      <td>PH</td>\n",
       "      <td>19847</td>\n",
       "    </tr>\n",
       "  </tbody>\n",
       "</table>\n",
       "</div>"
      ],
      "text/plain": [
       "  country  counts\n",
       "0      US  546403\n",
       "1      GB   66596\n",
       "2      CA   61849\n",
       "3      AU   50030\n",
       "4      PH   19847"
      ]
     },
     "execution_count": 12,
     "metadata": {},
     "output_type": "execute_result"
    }
   ],
   "source": [
    "big5_country_count = big5.country\\\n",
    "    .value_counts()\\\n",
    "    .rename_axis('country')\\\n",
    "    .reset_index(name='counts')\n",
    "\n",
    "print(f'Total: {len(big5_country_count)}')\n",
    "big5_country_count.head()"
   ]
  },
  {
   "cell_type": "markdown",
   "metadata": {},
   "source": [
    "# Use least 1000 observations."
   ]
  },
  {
   "cell_type": "code",
   "execution_count": 13,
   "metadata": {},
   "outputs": [],
   "source": [
    "big5 = big5[big5.country.isin(big5_country_count[big5_country_count.counts > 1000].country.values)]\n",
    "\n",
    "big5 = big5.loc[:,['country'] + positively_keyed + negatively_keyed]"
   ]
  },
  {
   "cell_type": "markdown",
   "metadata": {},
   "source": [
    "# Factor aggregation"
   ]
  },
  {
   "cell_type": "code",
   "execution_count": 14,
   "metadata": {},
   "outputs": [],
   "source": [
    "EXT = ['EXT' + str(i) for i in range(1,11)]\n",
    "EST = ['EST' + str(i) for i in range(1,11)]\n",
    "AGR = ['AGR' + str(i) for i in range(1,11)]\n",
    "CSN = ['CSN' + str(i) for i in range(1,11)]\n",
    "OPN = ['OPN' + str(i) for i in range(1,11)]"
   ]
  },
  {
   "cell_type": "code",
   "execution_count": 15,
   "metadata": {},
   "outputs": [],
   "source": [
    "big5['EXT'] = big5.loc[:, EXT].mean(axis=1)\n",
    "big5['EST'] = big5.loc[:, EST].mean(axis=1)\n",
    "big5['AGR'] = big5.loc[:, AGR].mean(axis=1)\n",
    "big5['CSN'] = big5.loc[:, CSN].mean(axis=1)\n",
    "big5['OPN'] = big5.loc[:, OPN].mean(axis=1)\n",
    "big5 = big5.loc[:, ['country', 'EXT', 'EST', 'AGR', 'CSN', 'OPN']]"
   ]
  },
  {
   "cell_type": "code",
   "execution_count": 16,
   "metadata": {},
   "outputs": [],
   "source": [
    "big5 = big5.dropna()\n",
    "big5 = big5[big5.country != 'NONE']"
   ]
  },
  {
   "cell_type": "code",
   "execution_count": 17,
   "metadata": {},
   "outputs": [
    {
     "name": "stdout",
     "output_type": "stream",
     "text": [
      "Total: 975151\n"
     ]
    },
    {
     "data": {
      "text/html": [
       "<div>\n",
       "<style scoped>\n",
       "    .dataframe tbody tr th:only-of-type {\n",
       "        vertical-align: middle;\n",
       "    }\n",
       "\n",
       "    .dataframe tbody tr th {\n",
       "        vertical-align: top;\n",
       "    }\n",
       "\n",
       "    .dataframe thead th {\n",
       "        text-align: right;\n",
       "    }\n",
       "</style>\n",
       "<table border=\"1\" class=\"dataframe\">\n",
       "  <thead>\n",
       "    <tr style=\"text-align: right;\">\n",
       "      <th></th>\n",
       "      <th>country</th>\n",
       "      <th>EXT</th>\n",
       "      <th>EST</th>\n",
       "      <th>AGR</th>\n",
       "      <th>CSN</th>\n",
       "      <th>OPN</th>\n",
       "    </tr>\n",
       "  </thead>\n",
       "  <tbody>\n",
       "    <tr>\n",
       "      <th>0</th>\n",
       "      <td>US</td>\n",
       "      <td>2.5</td>\n",
       "      <td>2.8</td>\n",
       "      <td>4.7</td>\n",
       "      <td>4.2</td>\n",
       "      <td>3.3</td>\n",
       "    </tr>\n",
       "    <tr>\n",
       "      <th>1</th>\n",
       "      <td>US</td>\n",
       "      <td>2.6</td>\n",
       "      <td>3.6</td>\n",
       "      <td>4.3</td>\n",
       "      <td>4.4</td>\n",
       "      <td>3.7</td>\n",
       "    </tr>\n",
       "    <tr>\n",
       "      <th>2</th>\n",
       "      <td>US</td>\n",
       "      <td>3.1</td>\n",
       "      <td>4.0</td>\n",
       "      <td>4.5</td>\n",
       "      <td>2.9</td>\n",
       "      <td>3.8</td>\n",
       "    </tr>\n",
       "    <tr>\n",
       "      <th>3</th>\n",
       "      <td>US</td>\n",
       "      <td>2.8</td>\n",
       "      <td>1.6</td>\n",
       "      <td>3.4</td>\n",
       "      <td>4.3</td>\n",
       "      <td>3.6</td>\n",
       "    </tr>\n",
       "    <tr>\n",
       "      <th>4</th>\n",
       "      <td>US</td>\n",
       "      <td>2.8</td>\n",
       "      <td>3.0</td>\n",
       "      <td>4.2</td>\n",
       "      <td>3.8</td>\n",
       "      <td>3.9</td>\n",
       "    </tr>\n",
       "  </tbody>\n",
       "</table>\n",
       "</div>"
      ],
      "text/plain": [
       "  country  EXT  EST  AGR  CSN  OPN\n",
       "0      US  2.5  2.8  4.7  4.2  3.3\n",
       "1      US  2.6  3.6  4.3  4.4  3.7\n",
       "2      US  3.1  4.0  4.5  2.9  3.8\n",
       "3      US  2.8  1.6  3.4  4.3  3.6\n",
       "4      US  2.8  3.0  4.2  3.8  3.9"
      ]
     },
     "execution_count": 17,
     "metadata": {},
     "output_type": "execute_result"
    }
   ],
   "source": [
    "print(f'Total: {len(big5)}')\n",
    "big5.head()"
   ]
  },
  {
   "cell_type": "markdown",
   "metadata": {},
   "source": [
    "# Country-level averages"
   ]
  },
  {
   "cell_type": "code",
   "execution_count": 18,
   "metadata": {},
   "outputs": [],
   "source": [
    "big5_cavgs = big5.groupby('country')\\\n",
    "                    .mean()\\\n",
    "                    .rename_axis('country')\\\n",
    "                    .reset_index()"
   ]
  },
  {
   "cell_type": "code",
   "execution_count": 19,
   "metadata": {},
   "outputs": [
    {
     "name": "stdout",
     "output_type": "stream",
     "text": [
      "Total: 57\n"
     ]
    },
    {
     "data": {
      "text/html": [
       "<div>\n",
       "<style scoped>\n",
       "    .dataframe tbody tr th:only-of-type {\n",
       "        vertical-align: middle;\n",
       "    }\n",
       "\n",
       "    .dataframe tbody tr th {\n",
       "        vertical-align: top;\n",
       "    }\n",
       "\n",
       "    .dataframe thead th {\n",
       "        text-align: right;\n",
       "    }\n",
       "</style>\n",
       "<table border=\"1\" class=\"dataframe\">\n",
       "  <thead>\n",
       "    <tr style=\"text-align: right;\">\n",
       "      <th></th>\n",
       "      <th>country</th>\n",
       "      <th>EXT</th>\n",
       "      <th>EST</th>\n",
       "      <th>AGR</th>\n",
       "      <th>CSN</th>\n",
       "      <th>OPN</th>\n",
       "    </tr>\n",
       "  </thead>\n",
       "  <tbody>\n",
       "    <tr>\n",
       "      <th>0</th>\n",
       "      <td>AE</td>\n",
       "      <td>3.031275</td>\n",
       "      <td>3.125686</td>\n",
       "      <td>3.763399</td>\n",
       "      <td>3.392745</td>\n",
       "      <td>3.720131</td>\n",
       "    </tr>\n",
       "    <tr>\n",
       "      <th>1</th>\n",
       "      <td>AR</td>\n",
       "      <td>2.848630</td>\n",
       "      <td>3.230656</td>\n",
       "      <td>3.625175</td>\n",
       "      <td>3.157935</td>\n",
       "      <td>3.986265</td>\n",
       "    </tr>\n",
       "    <tr>\n",
       "      <th>2</th>\n",
       "      <td>AT</td>\n",
       "      <td>2.992051</td>\n",
       "      <td>2.985863</td>\n",
       "      <td>3.678952</td>\n",
       "      <td>3.238528</td>\n",
       "      <td>4.056052</td>\n",
       "    </tr>\n",
       "    <tr>\n",
       "      <th>3</th>\n",
       "      <td>AU</td>\n",
       "      <td>3.000470</td>\n",
       "      <td>3.033397</td>\n",
       "      <td>3.782136</td>\n",
       "      <td>3.353265</td>\n",
       "      <td>3.833542</td>\n",
       "    </tr>\n",
       "    <tr>\n",
       "      <th>4</th>\n",
       "      <td>BE</td>\n",
       "      <td>3.002726</td>\n",
       "      <td>3.049043</td>\n",
       "      <td>3.761206</td>\n",
       "      <td>3.197772</td>\n",
       "      <td>3.906212</td>\n",
       "    </tr>\n",
       "  </tbody>\n",
       "</table>\n",
       "</div>"
      ],
      "text/plain": [
       "  country       EXT       EST       AGR       CSN       OPN\n",
       "0      AE  3.031275  3.125686  3.763399  3.392745  3.720131\n",
       "1      AR  2.848630  3.230656  3.625175  3.157935  3.986265\n",
       "2      AT  2.992051  2.985863  3.678952  3.238528  4.056052\n",
       "3      AU  3.000470  3.033397  3.782136  3.353265  3.833542\n",
       "4      BE  3.002726  3.049043  3.761206  3.197772  3.906212"
      ]
     },
     "execution_count": 19,
     "metadata": {},
     "output_type": "execute_result"
    }
   ],
   "source": [
    "print(f'Total: {len(big5_cavgs)}')\n",
    "big5_cavgs.head()"
   ]
  },
  {
   "cell_type": "markdown",
   "metadata": {},
   "source": [
    "# Joining Big 5 Country Data to COVID-19 Data"
   ]
  },
  {
   "cell_type": "code",
   "execution_count": null,
   "metadata": {},
   "outputs": [],
   "source": [
    "covid19_big5 = covid19.merge(big5_cavgs, left_on='country_abbr', right_on='country')\n",
    "covid19_big5.head()"
   ]
  }
 ],
 "metadata": {
  "kernelspec": {
   "display_name": "Python 3.6.8 64-bit ('.venv': virtualenv)",
   "language": "python",
   "name": "python36864bitvenvvirtualenvacaff34b38d84bbdb38c32a940f37472"
  },
  "language_info": {
   "codemirror_mode": {
    "name": "ipython",
    "version": 3
   },
   "file_extension": ".py",
   "mimetype": "text/x-python",
   "name": "python",
   "nbconvert_exporter": "python",
   "pygments_lexer": "ipython3",
   "version": "3.6.8"
  }
 },
 "nbformat": 4,
 "nbformat_minor": 4
}
